{
  "nbformat": 4,
  "nbformat_minor": 0,
  "metadata": {
    "colab": {
      "name": "Pipeline evaluation.ipynb",
      "provenance": [],
      "collapsed_sections": [
        "IXuHCnev8Q3B",
        "s1XzR8bVrbpf",
        "Zzi-RTwkr1kd"
      ],
      "authorship_tag": "ABX9TyO09+vnDn8+O3TdXoBbnfq0",
      "include_colab_link": true
    },
    "kernelspec": {
      "name": "python3",
      "display_name": "Python 3"
    },
    "language_info": {
      "name": "python"
    },
    "accelerator": "GPU"
  },
  "cells": [
    {
      "cell_type": "markdown",
      "metadata": {
        "id": "view-in-github",
        "colab_type": "text"
      },
      "source": [
        "<a href=\"https://colab.research.google.com/github/kamisoel/gait-analyzer/blob/main/Pipeline_evaluation.ipynb\" target=\"_parent\"><img src=\"https://colab.research.google.com/assets/colab-badge.svg\" alt=\"Open In Colab\"/></a>"
      ]
    },
    {
      "cell_type": "markdown",
      "metadata": {
        "id": "2wf01yk68mNo"
      },
      "source": [
        "[![Open In Colab](https://colab.research.google.com/assets/colab-badge.svg)](https://colab.research.google.com/github/googlecolab/colabtools/blob/master/notebooks/colab-github-demo.ipynb)"
      ]
    },
    {
      "cell_type": "markdown",
      "metadata": {
        "id": "IXuHCnev8Q3B"
      },
      "source": [
        "# Setup environment\n",
        "Install all necessary libraries and clone the github"
      ]
    },
    {
      "cell_type": "code",
      "metadata": {
        "id": "bRPTGfRAn9Na"
      },
      "source": [
        "%cd /content\n",
        "%load_ext autoreload\n",
        "\n",
        "!pip -q install -U pyyaml\n",
        "!pip -q install yacs\n",
        "!pip -q install mediapipe\n",
        "!pip -q install slicerator\n",
        "!pip -q install vg\n",
        "!git clone https://github.com/kamisoel/gait-analyzer\n",
        "\n",
        "import sys\n",
        "import base64\n",
        "from IPython.display import HTML\n",
        "from pathlib import Path\n",
        "\n",
        "if \"gait-analyzer\" not in sys.path:\n",
        "    sys.path.append(\"gait-analyzer\")\n",
        "\n",
        "# Define function to display the video\n",
        "def show_local_mp4_video(file_name, width=640, height=480):\n",
        "  video_encoded = base64.b64encode(Path(file_name).read_bytes()).decode()\n",
        "  return HTML(data=f'''<video width=\"{width}\" height=\"{height}\" alt=\"test\" controls>\n",
        "                        <source src=\"data:video/mp4;base64,{video_encoded}\" type=\"video/mp4\"/>\n",
        "                      </video>''')\n"
      ],
      "execution_count": null,
      "outputs": []
    },
    {
      "cell_type": "markdown",
      "metadata": {
        "id": "s1XzR8bVrbpf"
      },
      "source": [
        "#Create h36m 2d dataset for MediaPipe"
      ]
    },
    {
      "cell_type": "markdown",
      "metadata": {
        "id": "16IK52k599EE"
      },
      "source": [
        "Test videos of Human3.6m (S9, S11) should be given according to the following example folder structure: \"{in_dir}/S9/Walking/Walking.55011271.mp4\" </br>\n",
        "Different trials (e.g. Walking and Walking 1) should have their own folder each"
      ]
    },
    {
      "cell_type": "code",
      "metadata": {
        "id": "iPG8ZmgQsWBz"
      },
      "source": [
        "in_dir = Path('/content/input')"
      ],
      "execution_count": null,
      "outputs": []
    },
    {
      "cell_type": "code",
      "metadata": {
        "id": "V3Il94JPoIeD"
      },
      "source": [
        "%cd ./gait-analyzer\n",
        "import numpy as np\n",
        "import matplotlib.pyplot as plt\n",
        "\n",
        "from data.video import Video\n",
        "from data.angle_helper import calc_common_angles\n",
        "from data.data_utils import suggest_metadata\n",
        "from model.mediapipe_estimator import MediaPipe_Estimator2D\n",
        "from model.videopose3d import VideoPose3D\n",
        "\n",
        "# map cam id to list index (from VideoPose3D)\n",
        "cam_map = {\n",
        "    '54138969': 0,\n",
        "    '55011271': 1,\n",
        "    '58860488': 2,\n",
        "    '60457274': 3,\n",
        "}\n",
        "\n",
        "positions_2d = {}\n",
        "positions_3d = {}\n",
        "angles_3d = {}\n",
        "\n",
        "# get appropiate meta data for MS coco pose topology\n",
        "metadata = suggest_metadata('coco')\n",
        "\n",
        "# Iterate over all subjects\n",
        "for subj_dir in in_dir.iterdir():\n",
        "    subject = subj_dir.name\n",
        "    positions_2d[subject] = {}\n",
        "    positions_3d[subject] = {}\n",
        "    angles_3d[subject] = {}\n",
        "\n",
        "    # Iterate over all activities\n",
        "    for act_dir in subj_dir.iterdir():\n",
        "        activity = act_dir.name\n",
        "        positions_2d[subject][activity] = [None] * len(cam_map)\n",
        "        positions_3d[subject][activity] = [None] * len(cam_map)\n",
        "        angles_3d[subject][activity] = [None] * len(cam_map)\n",
        "\n",
        "        # every file is by one camera\n",
        "        for video_files in act_dir.iterdir():\n",
        "            cam = video_files.stem.split('.')[1]\n",
        "            video = Video(video_files)\n",
        "  \n",
        "            # estimate 2D and 3D keypoints using the HPE pipeline\n",
        "            estimator_2d = MediaPipe_Estimator2D(out_format='coco')\n",
        "            estimator_3d = VideoPose3D()\n",
        "\n",
        "            kpts, meta = estimator_2d.estimate(video)\n",
        "            pose_3d = estimator_3d.estimate(kpts, meta)['video']\n",
        "            angles = calc_common_angles(pose_3d)\n",
        "\n",
        "            # save data at correct list position\n",
        "            id = cam_map[cam]\n",
        "            pose_2d = kpts['video']['custom'][0]\n",
        "            positions_2d[subject][activity][id] = pose_2d\n",
        "            positions_3d[subject][activity][id] = pose_3d\n",
        "            angles_3d[subject][activity][id] = angles\n",
        "\n",
        "# save the data in VideoPose3D compatible npz format\n",
        "np.savez_compressed(\"/content/data_2d_h36m_coco_mp\", positions_2d=positions_2d,\n",
        "                    positions_3d=positions_3d, angles_3d=angles_3d, metadata=metadata)"
      ],
      "execution_count": null,
      "outputs": []
    },
    {
      "cell_type": "markdown",
      "metadata": {
        "id": "Zzi-RTwkr1kd"
      },
      "source": [
        "# Run 3D pose evaluation\n",
        "The evaluation script of VideoPose3D will be used to evaluate the results"
      ]
    },
    {
      "cell_type": "markdown",
      "metadata": {
        "id": "jooguUln_orp"
      },
      "source": [
        "First VideoPose3D has to be setup by cloning the github and downloading the pretrained model and the gt data. The above calculated \"data_2d_h36m_coco_mp.npz\" should be copied in the VideoPose3D/data directory"
      ]
    },
    {
      "cell_type": "code",
      "metadata": {
        "id": "tqhO4_Qyr4j0"
      },
      "source": [
        "%cd ..\n",
        "!git clone https://github.com/facebookresearch/VideoPose3D.git\n",
        "!wget https://dl.fbaipublicfiles.com/video-pose-3d/pretrained_h36m_detectron_coco.bin -P VideoPose3D/checkpoint\n",
        "\n",
        "from google_drive_downloader import GoogleDriveDownloader as gdd\n",
        "# Download the gt 3D data => since redristribution of H36m is prohibited by \n",
        "# their licence, please see the VideoPose3D README for details on how to format\n",
        "# the gt data for evaluation\n",
        "#gdd.download_file_from_google_drive(\"1VmI39nv4k3DOgqDBQutoZaTl7bnFRtUv\", 'VideoPose3D/data/data_3d_h36m.npz')\n",
        "\n",
        "# copy the calculated 2D estimations to VideoPose3D/data directory\n",
        "!cp data_2d_h36m_coco_mp.npz VideoPose3D/data/\n",
        "%cd ./VideoPose3D"
      ],
      "execution_count": null,
      "outputs": []
    },
    {
      "cell_type": "code",
      "metadata": {
        "id": "5-mjnm7F3zte",
        "colab": {
          "base_uri": "https://localhost:8080/"
        },
        "outputId": "7dba33fe-f5b7-43c1-bc5a-53593a31e163"
      },
      "source": [
        "## run this if the gt data contains all subjects data. Keeps only test subjects S9 and S11\n",
        "import numpy as np\n",
        "\n",
        "pos_3d = np.load('data/data_3d_h36m.npz', allow_pickle=True)['positions_3d'].item()\n",
        "test_pos_3d = {}\n",
        "\n",
        "for s in ['S9', 'S11']:\n",
        "    test_pos_3d[s] = {}\n",
        "    for a in pos_3d[s]:\n",
        "         test_pos_3d[s][a] = pos_3d[s][a]\n",
        "\n",
        "np.savez_compressed('data/data_3d_h36m', positions_3d=test_pos_3d)"
      ],
      "execution_count": null,
      "outputs": [
        {
          "output_type": "stream",
          "text": [
            "/content/VideoPose3D\n",
            "Downloading 1VmI39nv4k3DOgqDBQutoZaTl7bnFRtUv into data/data_3d_h36m.npz... Done.\n"
          ],
          "name": "stdout"
        }
      ]
    },
    {
      "cell_type": "markdown",
      "metadata": {
        "id": "4OoGWuabCCOt"
      },
      "source": [
        "Run VideoPose3D's evaluation script run.py using the estimated data"
      ]
    },
    {
      "cell_type": "code",
      "metadata": {
        "id": "taLzLkusscK7",
        "colab": {
          "base_uri": "https://localhost:8080/"
        },
        "outputId": "08ccb20a-2f43-4c6a-9cc7-98496bd8ca2f"
      },
      "source": [
        "!python run.py -k coco_mp -arc 3,3,3,3,3 -c checkpoint --evaluate pretrained_h36m_detectron_coco.bin"
      ],
      "execution_count": null,
      "outputs": [
        {
          "output_type": "stream",
          "text": [
            "/content/VideoPose3D\n",
            "Namespace(actions='*', architecture='3,3,3,3,3', batch_size=1024, bone_length_term=True, by_subject=False, causal=False, channels=1024, checkpoint='checkpoint', checkpoint_frequency=10, data_augmentation=True, dataset='h36m', dense=False, disable_optimizations=False, downsample=1, dropout=0.25, epochs=60, evaluate='pretrained_h36m_detectron_coco.bin', export_training_curves=False, keypoints='coco_mp', learning_rate=0.001, linear_projection=False, lr_decay=0.95, no_eval=False, no_proj=False, render=False, resume='', stride=1, subjects_test='S9,S11', subjects_train='S1,S5,S6,S7,S8', subjects_unlabeled='', subset=1, test_time_augmentation=True, viz_action=None, viz_bitrate=3000, viz_camera=0, viz_downsample=1, viz_export=None, viz_limit=-1, viz_no_ground_truth=False, viz_output=None, viz_size=5, viz_skip=0, viz_subject=None, viz_video=None, warmup=1)\n",
            "Loading dataset...\n",
            "Preparing data...\n",
            "Loading 2D detections...\n",
            "INFO: Receptive field: 243 frames\n",
            "INFO: Trainable parameter count: 16952371\n",
            "Loading checkpoint checkpoint/pretrained_h36m_detectron_coco.bin\n",
            "This model was trained for 80 epochs\n",
            "INFO: Testing on 543344 frames\n",
            "Evaluating...\n",
            "----SittingDown----\n",
            "Test time augmentation: True\n",
            "Protocol #1 Error (MPJPE): 124.52962262731019 mm\n",
            "Protocol #2 Error (P-MPJPE): 79.92009024811315 mm\n",
            "Protocol #3 Error (N-MPJPE): 110.73697352266093 mm\n",
            "Velocity Error (MPJVE): 5.326375120555918 mm\n",
            "----------\n",
            "----Purchases----\n",
            "Test time augmentation: True\n",
            "Protocol #1 Error (MPJPE): 137.70808527345412 mm\n",
            "Protocol #2 Error (P-MPJPE): 70.14032523519634 mm\n",
            "Protocol #3 Error (N-MPJPE): 106.4547678811935 mm\n",
            "Velocity Error (MPJVE): 7.811951255891376 mm\n",
            "----------\n",
            "----WalkDog----\n",
            "Test time augmentation: True\n",
            "Protocol #1 Error (MPJPE): 63.58248490678044 mm\n",
            "Protocol #2 Error (P-MPJPE): 49.24427254697747 mm\n",
            "Protocol #3 Error (N-MPJPE): 61.859825856740436 mm\n",
            "Velocity Error (MPJVE): 4.140471626080559 mm\n",
            "----------\n",
            "----WalkTogether----\n",
            "Test time augmentation: True\n",
            "Protocol #1 Error (MPJPE): 43.339456110068454 mm\n",
            "Protocol #2 Error (P-MPJPE): 34.34281163057148 mm\n",
            "Protocol #3 Error (N-MPJPE): 41.886075278506326 mm\n",
            "Velocity Error (MPJVE): 2.9941347366335016 mm\n",
            "----------\n",
            "----Sitting----\n",
            "Test time augmentation: True\n",
            "Protocol #1 Error (MPJPE): 83.7071569685856 mm\n",
            "Protocol #2 Error (P-MPJPE): 62.90281121080268 mm\n",
            "Protocol #3 Error (N-MPJPE): 82.1988735819151 mm\n",
            "Velocity Error (MPJVE): 2.294020680775419 mm\n",
            "----------\n",
            "----Posing----\n",
            "Test time augmentation: True\n",
            "Protocol #1 Error (MPJPE): 52.66070099659483 mm\n",
            "Protocol #2 Error (P-MPJPE): 40.07575303272418 mm\n",
            "Protocol #3 Error (N-MPJPE): 51.744456926246016 mm\n",
            "Velocity Error (MPJVE): 2.682974993925005 mm\n",
            "----------\n",
            "----Phoning----\n",
            "Test time augmentation: True\n",
            "Protocol #1 Error (MPJPE): 67.789513120411 mm\n",
            "Protocol #2 Error (P-MPJPE): 53.31276270205314 mm\n",
            "Protocol #3 Error (N-MPJPE): 66.7081354125498 mm\n",
            "Velocity Error (MPJVE): 2.4635024221139172 mm\n",
            "----------\n",
            "----Greeting----\n",
            "Test time augmentation: True\n",
            "Protocol #1 Error (MPJPE): 56.63464529722572 mm\n",
            "Protocol #2 Error (P-MPJPE): 44.71155622337758 mm\n",
            "Protocol #3 Error (N-MPJPE): 55.64504401361276 mm\n",
            "Velocity Error (MPJVE): 3.662995690204647 mm\n",
            "----------\n",
            "----Directions----\n",
            "Test time augmentation: True\n",
            "Protocol #1 Error (MPJPE): 54.784544210768786 mm\n",
            "Protocol #2 Error (P-MPJPE): 43.4419506924252 mm\n",
            "Protocol #3 Error (N-MPJPE): 52.94234536639501 mm\n",
            "Velocity Error (MPJVE): 3.421181161242065 mm\n",
            "----------\n",
            "----Photo----\n",
            "Test time augmentation: True\n",
            "Protocol #1 Error (MPJPE): 73.61820021118221 mm\n",
            "Protocol #2 Error (P-MPJPE): 53.542297826584374 mm\n",
            "Protocol #3 Error (N-MPJPE): 71.51989728113253 mm\n",
            "Velocity Error (MPJVE): 2.978455725401998 mm\n",
            "----------\n",
            "----Walking----\n",
            "Test time augmentation: True\n",
            "Protocol #1 Error (MPJPE): 41.62414942014129 mm\n",
            "Protocol #2 Error (P-MPJPE): 31.552881176508105 mm\n",
            "Protocol #3 Error (N-MPJPE): 40.321418413018606 mm\n",
            "Velocity Error (MPJVE): 3.5368297394438777 mm\n",
            "----------\n",
            "----Smoking----\n",
            "Test time augmentation: True\n",
            "Protocol #1 Error (MPJPE): 66.01180386604003 mm\n",
            "Protocol #2 Error (P-MPJPE): 52.85568438333026 mm\n",
            "Protocol #3 Error (N-MPJPE): 64.81823160988762 mm\n",
            "Velocity Error (MPJVE): 2.4599113690250984 mm\n",
            "----------\n",
            "----Discussion----\n",
            "Test time augmentation: True\n",
            "Protocol #1 Error (MPJPE): 69.19378109149189 mm\n",
            "Protocol #2 Error (P-MPJPE): 49.217611857801884 mm\n",
            "Protocol #3 Error (N-MPJPE): 63.91982503480507 mm\n",
            "Velocity Error (MPJVE): 3.6734293130091675 mm\n",
            "----------\n",
            "----Waiting----\n",
            "Test time augmentation: True\n",
            "Protocol #1 Error (MPJPE): 58.67675493496708 mm\n",
            "Protocol #2 Error (P-MPJPE): 43.465965129938795 mm\n",
            "Protocol #3 Error (N-MPJPE): 57.74607646662546 mm\n",
            "Velocity Error (MPJVE): 2.709028605776966 mm\n",
            "----------\n",
            "----Eating----\n",
            "Test time augmentation: True\n",
            "Protocol #1 Error (MPJPE): 55.039921433334015 mm\n",
            "Protocol #2 Error (P-MPJPE): 45.140894803794666 mm\n",
            "Protocol #3 Error (N-MPJPE): 53.524699735083615 mm\n",
            "Velocity Error (MPJVE): 2.549541317160992 mm\n",
            "----------\n",
            "Protocol #1   (MPJPE) action-wise average: 69.9 mm\n",
            "Protocol #2 (P-MPJPE) action-wise average: 50.3 mm\n",
            "Protocol #3 (N-MPJPE) action-wise average: 65.5 mm\n",
            "Velocity      (MPJVE) action-wise average: 3.51 mm\n"
          ],
          "name": "stdout"
        }
      ]
    },
    {
      "cell_type": "markdown",
      "metadata": {
        "id": "SICu41RDDHlN"
      },
      "source": [
        "For comparision the original backbones for VideoPose3D can be downloaded and evaluated as well"
      ]
    },
    {
      "cell_type": "code",
      "metadata": {
        "colab": {
          "base_uri": "https://localhost:8080/"
        },
        "id": "CJHpheo9Yfdw",
        "outputId": "aa8af540-5b06-4e2e-81d2-4c9fa7544ab7"
      },
      "source": [
        "# Download other 2D backbones for comparision\n",
        "!wget https://dl.fbaipublicfiles.com/video-pose-3d/data_2d_h36m_detectron_ft_h36m.npz -P data\n",
        "!wget https://dl.fbaipublicfiles.com/video-pose-3d/data_2d_h36m_cpn_ft_h36m_dbb.npz -P data\n",
        "!wget https://dl.fbaipublicfiles.com/video-pose-3d/pretrained_h36m_cpn.bin -P checkpoint\n",
        "#!wget https://dl.fbaipublicfiles.com/video-pose-3d/pretrained_h36m_detectron.bin -P checkpoint"
      ],
      "execution_count": null,
      "outputs": [
        {
          "output_type": "stream",
          "text": [
            "/content/VideoPose3D\n",
            "--2021-08-13 09:30:48--  https://dl.fbaipublicfiles.com/video-pose-3d/pretrained_h36m_detectron.bin\n",
            "Resolving dl.fbaipublicfiles.com (dl.fbaipublicfiles.com)... 104.22.75.142, 172.67.9.4, 104.22.74.142, ...\n",
            "Connecting to dl.fbaipublicfiles.com (dl.fbaipublicfiles.com)|104.22.75.142|:443... connected.\n",
            "HTTP request sent, awaiting response... 403 Forbidden\n",
            "2021-08-13 09:30:48 ERROR 403: Forbidden.\n",
            "\n"
          ],
          "name": "stdout"
        }
      ]
    },
    {
      "cell_type": "code",
      "metadata": {
        "id": "1WoVE9PFyX8w",
        "colab": {
          "base_uri": "https://localhost:8080/"
        },
        "outputId": "f7e634ed-21af-4e78-de7e-cb145a848338"
      },
      "source": [
        "!python run.py -k detectron_ft_h36m -arc 3,3,3,3,3 -c checkpoint --evaluate pretrained_h36m_cpn.bin"
      ],
      "execution_count": null,
      "outputs": [
        {
          "output_type": "stream",
          "text": [
            "Namespace(actions='*', architecture='3,3,3,3,3', batch_size=1024, bone_length_term=True, by_subject=False, causal=False, channels=1024, checkpoint='checkpoint', checkpoint_frequency=10, data_augmentation=True, dataset='h36m', dense=False, disable_optimizations=False, downsample=1, dropout=0.25, epochs=60, evaluate='pretrained_h36m_cpn.bin', export_training_curves=False, keypoints='detectron_ft_h36m', learning_rate=0.001, linear_projection=False, lr_decay=0.95, no_eval=False, no_proj=False, render=False, resume='', stride=1, subjects_test='S9,S11', subjects_train='S1,S5,S6,S7,S8', subjects_unlabeled='', subset=1, test_time_augmentation=True, viz_action=None, viz_bitrate=3000, viz_camera=0, viz_downsample=1, viz_export=None, viz_limit=-1, viz_no_ground_truth=False, viz_output=None, viz_size=5, viz_skip=0, viz_subject=None, viz_video=None, warmup=1)\n",
            "Loading dataset...\n",
            "Preparing data...\n",
            "Loading 2D detections...\n",
            "INFO: Receptive field: 243 frames\n",
            "INFO: Trainable parameter count: 16952371\n",
            "Loading checkpoint checkpoint/pretrained_h36m_cpn.bin\n",
            "This model was trained for 80 epochs\n",
            "INFO: Testing on 543344 frames\n",
            "Evaluating...\n",
            "----SittingDown----\n",
            "Test time augmentation: True\n",
            "Protocol #1 Error (MPJPE): 84.60221209692656 mm\n",
            "Protocol #2 Error (P-MPJPE): 66.75532908669513 mm\n",
            "Protocol #3 Error (N-MPJPE): 81.4673728038481 mm\n",
            "Velocity Error (MPJVE): 2.8844596716779787 mm\n",
            "----------\n",
            "----Purchases----\n",
            "Test time augmentation: True\n",
            "Protocol #1 Error (MPJPE): 50.243879289974245 mm\n",
            "Protocol #2 Error (P-MPJPE): 37.24772573654069 mm\n",
            "Protocol #3 Error (N-MPJPE): 46.90512378012935 mm\n",
            "Velocity Error (MPJVE): 3.2941937520292552 mm\n",
            "----------\n",
            "----WalkDog----\n",
            "Test time augmentation: True\n",
            "Protocol #1 Error (MPJPE): 55.99899330361203 mm\n",
            "Protocol #2 Error (P-MPJPE): 42.589888685667724 mm\n",
            "Protocol #3 Error (N-MPJPE): 52.39452197284366 mm\n",
            "Velocity Error (MPJVE): 3.8484169915032225 mm\n",
            "----------\n",
            "----WalkTogether----\n",
            "Test time augmentation: True\n",
            "Protocol #1 Error (MPJPE): 39.20982204442577 mm\n",
            "Protocol #2 Error (P-MPJPE): 30.87200442685859 mm\n",
            "Protocol #3 Error (N-MPJPE): 35.67817104555196 mm\n",
            "Velocity Error (MPJVE): 2.944188870635824 mm\n",
            "----------\n",
            "----Sitting----\n",
            "Test time augmentation: True\n",
            "Protocol #1 Error (MPJPE): 71.83109726279542 mm\n",
            "Protocol #2 Error (P-MPJPE): 55.862287361326885 mm\n",
            "Protocol #3 Error (N-MPJPE): 69.64696783495481 mm\n",
            "Velocity Error (MPJVE): 1.9918444814468794 mm\n",
            "----------\n",
            "----Posing----\n",
            "Test time augmentation: True\n",
            "Protocol #1 Error (MPJPE): 50.35081694975954 mm\n",
            "Protocol #2 Error (P-MPJPE): 36.51518945205312 mm\n",
            "Protocol #3 Error (N-MPJPE): 46.708547337188264 mm\n",
            "Velocity Error (MPJVE): 2.5562359921308504 mm\n",
            "----------\n",
            "----Phoning----\n",
            "Test time augmentation: True\n",
            "Protocol #1 Error (MPJPE): 59.461624913181694 mm\n",
            "Protocol #2 Error (P-MPJPE): 44.12603403780742 mm\n",
            "Protocol #3 Error (N-MPJPE): 55.90536275360749 mm\n",
            "Velocity Error (MPJVE): 2.241915967149887 mm\n",
            "----------\n",
            "----Greeting----\n",
            "Test time augmentation: True\n",
            "Protocol #1 Error (MPJPE): 52.36938745529821 mm\n",
            "Protocol #2 Error (P-MPJPE): 40.739917987975836 mm\n",
            "Protocol #3 Error (N-MPJPE): 48.33023962410984 mm\n",
            "Velocity Error (MPJVE): 3.3881465401873068 mm\n",
            "----------\n",
            "----Directions----\n",
            "Test time augmentation: True\n",
            "Protocol #1 Error (MPJPE): 54.01948031076951 mm\n",
            "Protocol #2 Error (P-MPJPE): 39.598930725638645 mm\n",
            "Protocol #3 Error (N-MPJPE): 48.15828152927293 mm\n",
            "Velocity Error (MPJVE): 2.8721461337586502 mm\n",
            "----------\n",
            "----Photo----\n",
            "Test time augmentation: True\n",
            "Protocol #1 Error (MPJPE): 65.04878639707299 mm\n",
            "Protocol #2 Error (P-MPJPE): 49.32540775585467 mm\n",
            "Protocol #3 Error (N-MPJPE): 60.801399163114056 mm\n",
            "Velocity Error (MPJVE): 2.6942687069963522 mm\n",
            "----------\n",
            "----Walking----\n",
            "Test time augmentation: True\n",
            "Protocol #1 Error (MPJPE): 38.20968566497023 mm\n",
            "Protocol #2 Error (P-MPJPE): 29.67842826407154 mm\n",
            "Protocol #3 Error (N-MPJPE): 35.06517030875122 mm\n",
            "Velocity Error (MPJVE): 3.3271407170351437 mm\n",
            "----------\n",
            "----Smoking----\n",
            "Test time augmentation: True\n",
            "Protocol #1 Error (MPJPE): 55.443514833062636 mm\n",
            "Protocol #2 Error (P-MPJPE): 42.94417140524446 mm\n",
            "Protocol #3 Error (N-MPJPE): 52.522192899865196 mm\n",
            "Velocity Error (MPJVE): 2.2348345172830104 mm\n",
            "----------\n",
            "----Discussion----\n",
            "Test time augmentation: True\n",
            "Protocol #1 Error (MPJPE): 56.30637159910041 mm\n",
            "Protocol #2 Error (P-MPJPE): 41.752020488450526 mm\n",
            "Protocol #3 Error (N-MPJPE): 53.33710089708616 mm\n",
            "Velocity Error (MPJVE): 3.0490556465168783 mm\n",
            "----------\n",
            "----Waiting----\n",
            "Test time augmentation: True\n",
            "Protocol #1 Error (MPJPE): 52.32923760098721 mm\n",
            "Protocol #2 Error (P-MPJPE): 39.434150874712316 mm\n",
            "Protocol #3 Error (N-MPJPE): 49.182235372496564 mm\n",
            "Velocity Error (MPJVE): 2.364153672038878 mm\n",
            "----------\n",
            "----Eating----\n",
            "Test time augmentation: True\n",
            "Protocol #1 Error (MPJPE): 47.46310303289638 mm\n",
            "Protocol #2 Error (P-MPJPE): 38.06326815086472 mm\n",
            "Protocol #3 Error (N-MPJPE): 45.43814411936713 mm\n",
            "Velocity Error (MPJVE): 2.238615962278757 mm\n",
            "----------\n",
            "Protocol #1   (MPJPE) action-wise average: 55.5 mm\n",
            "Protocol #2 (P-MPJPE) action-wise average: 42.4 mm\n",
            "Protocol #3 (N-MPJPE) action-wise average: 52.1 mm\n",
            "Velocity      (MPJVE) action-wise average: 2.8 mm\n"
          ],
          "name": "stdout"
        }
      ]
    },
    {
      "cell_type": "code",
      "metadata": {
        "colab": {
          "base_uri": "https://localhost:8080/"
        },
        "id": "Ql7JjUCV1kyT",
        "outputId": "f91c2ac2-6188-446b-a2da-e048263e58f0"
      },
      "source": [
        "!python run.py -k cpn_ft_h36m_dbb -arc 3,3,3,3,3 -c checkpoint --evaluate pretrained_h36m_cpn.bin"
      ],
      "execution_count": null,
      "outputs": [
        {
          "output_type": "stream",
          "text": [
            "Namespace(actions='*', architecture='3,3,3,3,3', batch_size=1024, bone_length_term=True, by_subject=False, causal=False, channels=1024, checkpoint='checkpoint', checkpoint_frequency=10, data_augmentation=True, dataset='h36m', dense=False, disable_optimizations=False, downsample=1, dropout=0.25, epochs=60, evaluate='pretrained_h36m_cpn.bin', export_training_curves=False, keypoints='cpn_ft_h36m_dbb', learning_rate=0.001, linear_projection=False, lr_decay=0.95, no_eval=False, no_proj=False, render=False, resume='', stride=1, subjects_test='S9,S11', subjects_train='S1,S5,S6,S7,S8', subjects_unlabeled='', subset=1, test_time_augmentation=True, viz_action=None, viz_bitrate=3000, viz_camera=0, viz_downsample=1, viz_export=None, viz_limit=-1, viz_no_ground_truth=False, viz_output=None, viz_size=5, viz_skip=0, viz_subject=None, viz_video=None, warmup=1)\n",
            "Loading dataset...\n",
            "Preparing data...\n",
            "Loading 2D detections...\n",
            "INFO: Receptive field: 243 frames\n",
            "INFO: Trainable parameter count: 16952371\n",
            "Loading checkpoint checkpoint/pretrained_h36m_cpn.bin\n",
            "This model was trained for 80 epochs\n",
            "INFO: Testing on 543344 frames\n",
            "Evaluating...\n",
            "----SittingDown----\n",
            "Test time augmentation: True\n",
            "Protocol #1 Error (MPJPE): 65.79780148881304 mm\n",
            "Protocol #2 Error (P-MPJPE): 52.530970566387 mm\n",
            "Protocol #3 Error (N-MPJPE): 63.29354330261917 mm\n",
            "Velocity Error (MPJVE): 2.8698934802155356 mm\n",
            "----------\n",
            "----Purchases----\n",
            "Test time augmentation: True\n",
            "Protocol #1 Error (MPJPE): 44.278840485321204 mm\n",
            "Protocol #2 Error (P-MPJPE): 33.59664126313424 mm\n",
            "Protocol #3 Error (N-MPJPE): 42.519163355784556 mm\n",
            "Velocity Error (MPJVE): 3.0979489849861404 mm\n",
            "----------\n",
            "----WalkDog----\n",
            "Test time augmentation: True\n",
            "Protocol #1 Error (MPJPE): 48.95927306591576 mm\n",
            "Protocol #2 Error (P-MPJPE): 37.7536162088055 mm\n",
            "Protocol #3 Error (N-MPJPE): 46.43276404618897 mm\n",
            "Velocity Error (MPJVE): 3.7212939646839724 mm\n",
            "----------\n",
            "----WalkTogether----\n",
            "Test time augmentation: True\n",
            "Protocol #1 Error (MPJPE): 33.877529785950564 mm\n",
            "Protocol #2 Error (P-MPJPE): 27.280319540180066 mm\n",
            "Protocol #3 Error (N-MPJPE): 32.16627210722073 mm\n",
            "Velocity Error (MPJVE): 2.7805875515600302 mm\n",
            "----------\n",
            "----Sitting----\n",
            "Test time augmentation: True\n",
            "Protocol #1 Error (MPJPE): 57.29248165590001 mm\n",
            "Protocol #2 Error (P-MPJPE): 45.03277466622344 mm\n",
            "Protocol #3 Error (N-MPJPE): 55.24516842107969 mm\n",
            "Velocity Error (MPJVE): 2.0748285930329033 mm\n",
            "----------\n",
            "----Posing----\n",
            "Test time augmentation: True\n",
            "Protocol #1 Error (MPJPE): 44.62038720794065 mm\n",
            "Protocol #2 Error (P-MPJPE): 34.42265120269376 mm\n",
            "Protocol #3 Error (N-MPJPE): 43.34614144384184 mm\n",
            "Velocity Error (MPJVE): 2.680506061983112 mm\n",
            "----------\n",
            "----Phoning----\n",
            "Test time augmentation: True\n",
            "Protocol #1 Error (MPJPE): 48.09419169878281 mm\n",
            "Protocol #2 Error (P-MPJPE): 36.3945052774381 mm\n",
            "Protocol #3 Error (N-MPJPE): 46.026591269009536 mm\n",
            "Velocity Error (MPJVE): 2.2728516688985367 mm\n",
            "----------\n",
            "----Greeting----\n",
            "Test time augmentation: True\n",
            "Protocol #1 Error (MPJPE): 45.61267981388141 mm\n",
            "Protocol #2 Error (P-MPJPE): 37.22414063019154 mm\n",
            "Protocol #3 Error (N-MPJPE): 44.40103285403643 mm\n",
            "Velocity Error (MPJVE): 3.432865651838193 mm\n",
            "----------\n",
            "----Directions----\n",
            "Test time augmentation: True\n",
            "Protocol #1 Error (MPJPE): 45.15618155847835 mm\n",
            "Protocol #2 Error (P-MPJPE): 34.11945928507251 mm\n",
            "Protocol #3 Error (N-MPJPE): 42.629380252725944 mm\n",
            "Velocity Error (MPJVE): 2.975351446812409 mm\n",
            "----------\n",
            "----Photo----\n",
            "Test time augmentation: True\n",
            "Protocol #1 Error (MPJPE): 55.12475753609614 mm\n",
            "Protocol #2 Error (P-MPJPE): 42.20605545599741 mm\n",
            "Protocol #3 Error (N-MPJPE): 53.03141836465767 mm\n",
            "Velocity Error (MPJVE): 2.711605979082026 mm\n",
            "----------\n",
            "----Walking----\n",
            "Test time augmentation: True\n",
            "Protocol #1 Error (MPJPE): 32.787373088396464 mm\n",
            "Protocol #2 Error (P-MPJPE): 25.636827648223207 mm\n",
            "Protocol #3 Error (N-MPJPE): 31.419325702807914 mm\n",
            "Velocity Error (MPJVE): 3.1199512866287744 mm\n",
            "----------\n",
            "----Smoking----\n",
            "Test time augmentation: True\n",
            "Protocol #1 Error (MPJPE): 47.08722143697934 mm\n",
            "Protocol #2 Error (P-MPJPE): 37.37457515913264 mm\n",
            "Protocol #3 Error (N-MPJPE): 45.27725431609959 mm\n",
            "Velocity Error (MPJVE): 2.3061797403977433 mm\n",
            "----------\n",
            "----Discussion----\n",
            "Test time augmentation: True\n",
            "Protocol #1 Error (MPJPE): 46.67484923342707 mm\n",
            "Protocol #2 Error (P-MPJPE): 36.12383882045499 mm\n",
            "Protocol #3 Error (N-MPJPE): 45.07634704444903 mm\n",
            "Velocity Error (MPJVE): 3.105895231846363 mm\n",
            "----------\n",
            "----Waiting----\n",
            "Test time augmentation: True\n",
            "Protocol #1 Error (MPJPE): 43.98553968247238 mm\n",
            "Protocol #2 Error (P-MPJPE): 33.79774040322355 mm\n",
            "Protocol #3 Error (N-MPJPE): 42.48611376058651 mm\n",
            "Velocity Error (MPJVE): 2.4182384431491233 mm\n",
            "----------\n",
            "----Eating----\n",
            "Test time augmentation: True\n",
            "Protocol #1 Error (MPJPE): 43.30023510131951 mm\n",
            "Protocol #2 Error (P-MPJPE): 34.433984161994594 mm\n",
            "Protocol #3 Error (N-MPJPE): 42.1276854603635 mm\n",
            "Velocity Error (MPJVE): 2.2443480109626286 mm\n",
            "----------\n",
            "Protocol #1   (MPJPE) action-wise average: 46.8 mm\n",
            "Protocol #2 (P-MPJPE) action-wise average: 36.5 mm\n",
            "Protocol #3 (N-MPJPE) action-wise average: 45.0 mm\n",
            "Velocity      (MPJVE) action-wise average: 2.79 mm\n"
          ],
          "name": "stdout"
        }
      ]
    },
    {
      "cell_type": "markdown",
      "metadata": {
        "id": "4bbi_PZAfTxk"
      },
      "source": [
        "# Evaluate angle estimation"
      ]
    },
    {
      "cell_type": "markdown",
      "metadata": {
        "id": "tSobbSyyEr_9"
      },
      "source": [
        "Setup needed data"
      ]
    },
    {
      "cell_type": "code",
      "metadata": {
        "id": "dXkCyQ1_fVN_"
      },
      "source": [
        "import numpy as np\n",
        "from pathlib import Path\n",
        "from google_drive_downloader import GoogleDriveDownloader as gdd\n",
        "\n",
        "# folder containing the estimated 2d/3d data and the gt knee angle data\n",
        "data_dir = Path('data')\n",
        "\n",
        "# download gt angles\n",
        "gdd.download_file_from_google_drive(\"1VmI39nv4k3DOgqDBQutoZaTl7bnFRtUv\", data_dir / 'h36m_features.npz')\n",
        "\n",
        "mp_data = np.load(data_dir / \"data_2d_h36m_coco_mp.npz\", allow_pickle=True)\n",
        "mp_pos2d = mp_data['positions_2d'].item()\n",
        "mp_pos3d = mp_data['positions_3d'].item()\n",
        "mp_angles = mp_data['angles_3d'].item()\n",
        "mp_meta = mp_data['metadata'].item()\n",
        "\n",
        "gt_data = np.load(data_dir / \"h36m_features.npz\", allow_pickle=True)\n",
        "#gt_pos3d = gt_data['positions_3d'].item()\n",
        "gt_angles = gt_data['rotations_3d'].item()\n",
        "\n",
        "# simplify skeleton to 17 joints\n",
        "removed_joints = [4, 5, 9, 10, 11, 16, 20, 21, 22, 23, 24, 28, 29, 30, 31] # from VideoPose3D\n",
        "kept_joints = [j for j in range(32) if j not in removed_joints]\n",
        "for subject in gt_angles:\n",
        "    for actions in gt_angles[subject]:\n",
        "        #gt_pos3d[subject][actions] = gt_pos3d[subject][actions][:, kept_joints]\n",
        "        gt_angles[subject][actions] = gt_angles[subject][actions][:, kept_joints]"
      ],
      "execution_count": null,
      "outputs": []
    },
    {
      "cell_type": "code",
      "metadata": {
        "id": "d9ZfjlHdgMHk"
      },
      "source": [
        "from scipy.signal import filtfilt, butter\n",
        "from scipy.ndimage.filters import gaussian_filter1d\n",
        "import matplotlib.pyplot as plt\n",
        "import vg\n",
        "import pandas as pd\n",
        "from model.videopose3d import VideoPose3D\n",
        "from sklearn.metrics import explained_variance_score\n",
        "\n",
        "MHip = 0\n",
        "LHip, LKnee, LAnkle = 4,5,6\n",
        "RHip, RKnee, RAnkle = 1,2,3\n",
        "\n",
        "def draw_skeleton(p, axis=0):\n",
        "    plt.figure(figsize=(5,10))\n",
        "    plt.scatter(p[:, axis], p[:, -1])\n",
        "    for j in range(p.shape[0]):\n",
        "        plt.text(p[j, axis], p[j, -1], str(j), color=\"red\", fontsize=12)\n",
        "    plt.show()\n",
        "\n",
        "def norm_walking_dir(pose):\n",
        "    x_axis = np.array([1,0,0])\n",
        "    z_axis = np.array([0,0,1])\n",
        "    origin = pose[:, [MHip]]\n",
        "\n",
        "    orient = vg.angle((pose[:, LHip] - pose[:, RHip]), x_axis, look=z_axis)\n",
        "    new_pose = np.zeros_like(pose)\n",
        "    for i in range(len(pose)):\n",
        "        new_pose[i] = vg.rotate(pose[i] - origin[i], z_axis, orient[i])\n",
        "    return new_pose + origin\n",
        "\n",
        "# zero-lag butterworth low pass filter of given order using signal frequence fs\n",
        "def low_pass_filter(data, lp_freq=10, fs=50, order=4):\n",
        "    nyq = 0.5 * fs\n",
        "    b, a = butter(order, lp_freq/nyq, btype='low', analog=False)\n",
        "    return filtfilt(b, a, data, axis=0)\n",
        "\n",
        "def gauss_filter(data, sigma=5):\n",
        "    return gaussian_filter1d(data, sigma, axis=0)\n",
        "\n",
        "def calc_angle(pose, joint_idx):\n",
        "    Hip, Knee, Ankle = joint_idx\n",
        "    humerus = pose[:, Knee] - pose[:, Hip]\n",
        "    tibia = pose[:, Knee] - pose[:, Ankle]\n",
        "    return 180 - vg.angle(humerus, tibia)\n",
        "\n",
        "def mae_error(A, B):\n",
        "    return np.abs(A - B).mean(axis=0)\n",
        "\n",
        "def msd_error(A, B):\n",
        "    return (A - B).mean(axis=0)\n",
        "\n",
        "def rmse_error(A, B):\n",
        "    return np.sqrt(np.square(A - B).mean(axis=0))\n",
        "\n",
        "def corrcoef(A, B):\n",
        "    if A.ndim >1 and A.shape[-1] > 1:\n",
        "        return np.diag(np.corrcoef(A, B, rowvar=False), k=A.shape[-1])\n",
        "    else:\n",
        "        return np.corrcoef(A, B, rowvar=False)[1,0]\n",
        "\n",
        "\n",
        "def evaluate(pos2d, gt_angles, **kwargs):\n",
        "    results = []\n",
        "    if 'normalized_skeleton' in kwargs:\n",
        "        videopose_estimator = VideoPose3D(normalized_skeleton=kwargs['normalized_skeleton'])\n",
        "    else:\n",
        "        videopose_estimator = VideoPose3D()\n",
        "    for subject in ['S9', 'S11']:\n",
        "        for action in ['Walking', 'Walking 1', 'WalkTogether', 'WalkTogether 1']: #mp_pos2d[subject].keys():\n",
        "            for cam in range(len(mp_pos2d[subject][action])):\n",
        "                gt = np.rad2deg(gt_angles[subject][action])\n",
        "                p_2d = pos2d[subject][action][cam]\n",
        "\n",
        "                if 'pre_filter' in kwargs:\n",
        "                    if kwargs['pre_filter'] == 'gauss':\n",
        "                        sigma = kwargs['sigma'] if 'sigma' in kwargs else 5\n",
        "                        p_2d = gauss_filter(p_2d, sigma)\n",
        "                    elif kwargs['pre_filter'] == 'butter':\n",
        "                        freq = kwargs['freq'] if 'freq' in kwargs else 20\n",
        "                        p_2d = low_pass_filter(p_2d, freq)\n",
        "\n",
        "                p_3d_est = videopose_estimator.estimate({'video': {'custom': [p_2d]}}, mp_meta)\n",
        "                p_3d = p_3d_est['video'][:len(gt)]\n",
        "                if 'skip_frames' in kwargs:\n",
        "                    p_3d = p_3d[kwargs['skip_frames']:]\n",
        "                    gt = gt[kwargs['skip_frames']:]\n",
        "\n",
        "                if 'post_filter' in kwargs:\n",
        "                    if kwargs['post_filter'] == 'gauss':\n",
        "                        sigma = kwargs['sigma'] if 'sigma' in kwargs else 5\n",
        "                        p_3d = gauss_filter(p_3d, sigma)\n",
        "                    elif kwargs['post_filter'] == 'butter':\n",
        "                        freq = kwargs['freq'] if 'freq' in kwargs else 20\n",
        "                        p_3d = low_pass_filter(p_3d, freq)\n",
        "\n",
        "                rknee = calc_angle(p_3d, [RHip, RKnee, RAnkle])\n",
        "                lknee = calc_angle(p_3d, [LHip, LKnee, LAnkle])\n",
        "                scale = kwargs['scale_factor'] if 'scale_factor' in kwargs else 1\n",
        "                knees = scale * np.stack([rknee, lknee], axis=1)\n",
        "                gt_knees = gt[:, [RKnee, LKnee], 0]\n",
        "\n",
        "                mae = mae_error(gt_knees, knees)\n",
        "                rmse = rmse_error(gt_knees, knees)\n",
        "                msd = msd_error(gt_knees, knees)\n",
        "                corr = corrcoef(gt_knees, knees)\n",
        "                vaf = explained_variance_score(gt_knees, knees)\n",
        "\n",
        "                action_split = action.split(' ')\n",
        "                action_class = action_split[0]\n",
        "                trial = 1+int(action_split[1]) if len(action_split)>1 else 1\n",
        "                results.append(dict(subject=subject, action=action_class, trial=trial, cam=cam, \n",
        "                                    mae=np.mean(mae), rmse=np.mean(rmse), msd=np.mean(msd),\n",
        "                                    corr_coeff=np.mean(corr), vaf=vaf,\n",
        "                                    r_mae=mae[0], l_mae=mae[1],\n",
        "                                    r_rmse=rmse[0], l_rmse=rmse[1],\n",
        "                                    r_msd=msd[0], l_msd=msd[1],\n",
        "                                    r_corr_coeff=corr[0], l_corr_coeff=corr[1]),)\n",
        "    results = pd.DataFrame(results)\n",
        "    results['subject'] = results['subject'].astype(\"category\") # wont get aggregated\n",
        "    results['action'] = results['action'].astype(\"category\")\n",
        "    results['trial'] = results['trial'].astype(\"category\")\n",
        "    results['cam'] = results['cam'].astype(\"category\")\n",
        "    return results\n",
        "\n",
        "pd.options.display.float_format = '{:,.2f}'.format"
      ],
      "execution_count": null,
      "outputs": []
    },
    {
      "cell_type": "code",
      "metadata": {
        "id": "tqwPk3pKEVPt"
      },
      "source": [
        "pd.options.display.float_format = '{:,.2f}'.format\n",
        "\n",
        "results = evaluate(mp_pos2d, gt_angles)\n",
        "results_scale = evaluate(mp_pos2d, gt_angles, scale_factor=1.1)\n",
        "results_scale2 = evaluate(mp_pos2d, gt_angles, scale_factor=1.2)\n",
        "results_scale3 = evaluate(mp_pos2d, gt_angles, scale_factor=1.25)\n",
        "results_butter_pre = evaluate(mp_pos2d, gt_angles, pre_filter='butter', freq=6)\n",
        "results_butter_post = evaluate(mp_pos2d, gt_angles, post_filter='butter', freq=6)\n",
        "results_butter_pre_scale = evaluate(mp_pos2d, gt_angles, pre_filter='butter', freq=6, scale_factor=1.2)\n",
        "results_butter_post_scale = evaluate(mp_pos2d, gt_angles, post_filter='butter', freq=6, scale_factor=1.2)\n",
        "\n",
        "final_results = pd.concat([results, results_scale, results_scale2, results_scale3,\n",
        "                     results_butter_pre, results_butter_post, results_butter_pre_scale,\n",
        "                     results_butter_post_scale],\n",
        "                     names=['condition'],\n",
        "                     keys=['Original', 'Scale 1.1', 'Scale 1.2', 'Scale 1.25', \n",
        "                           'Butter Pre', 'Butter Post', 'Butter Pre + Scale', 'Butter Post + Scale'])\n",
        "\n",
        "#results.groupby('action').agg(['mean', 'std', 'min', 'max'])\n",
        "final_results.groupby('condition').agg(['mean', 'std', 'min', 'max'])"
      ],
      "execution_count": null,
      "outputs": []
    },
    {
      "cell_type": "markdown",
      "metadata": {
        "id": "jXo47vurEfib"
      },
      "source": [
        "#Evaluation for nonlinear metrics\n",
        "(the data setup cell from the angle evaluation has to be run first)"
      ]
    },
    {
      "cell_type": "code",
      "metadata": {
        "id": "eXEUl72QEehH"
      },
      "source": [
        "!pip install -q nolds\n",
        "import nolds\n",
        "\n",
        "def evaluate_nl(pos2d, gt_angles, **kwargs):\n",
        "    results = []\n",
        "    if 'normalized_skeleton' in kwargs:\n",
        "        videopose_estimator = VideoPose3D(normalized_skeleton=kwargs['normalized_skeleton'])\n",
        "    else:\n",
        "        videopose_estimator = VideoPose3D()\n",
        "    for subject in ['S9', 'S11']:\n",
        "        for action in ['Walking']:#, 'Walking 1', 'WalkTogether', 'WalkTogether 1']: #mp_pos2d[subject].keys():\n",
        "            for cam in range(len(mp_pos2d[subject][action])):\n",
        "                gt = np.rad2deg(gt_angles[subject][action])\n",
        "                p_2d = pos2d[subject][action][cam]\n",
        "                #3d estimation\n",
        "                p_3d_est = videopose_estimator.estimate({'video': {'custom': [p_2d]}}, mp_meta)\n",
        "                p_3d = low_pass_filter(p_3d_est['video'][:len(gt)], 6)\n",
        "                # knee angles\n",
        "                rknee = calc_angle(p_3d, [RHip, RKnee, RAnkle])\n",
        "                lknee = calc_angle(p_3d, [LHip, LKnee, LAnkle])\n",
        "                scale = kwargs['scale_factor'] if 'scale_factor' in kwargs else 1\n",
        "                knees = scale * np.stack([rknee, lknee], axis=1)\n",
        "                gt_knees = gt[:, [RKnee, LKnee], 0]\n",
        "                # metadata\n",
        "                action_split = action.split(' ')\n",
        "                action_class = action_split[0]\n",
        "                trial = 1+int(action_split[1]) if len(action_split)>1 else 1\n",
        "                for side in [0,1]: #right, left\n",
        "                    # nl metrics\n",
        "                    lyap = nolds.lyap_r(knees[:, side], 3, 4, 50)\n",
        "                    entropy = nolds.sampen(knees[:, side], 3)\n",
        "                    corr_dim = nolds.corr_dim(knees[:, side], 3)\n",
        "                    gt_lyap = nolds.lyap_r(gt_knees[:, side], 3, 4, 50)\n",
        "                    gt_entropy = nolds.sampen(gt_knees[:, side], 3)\n",
        "                    gt_corr_dim = nolds.corr_dim(gt_knees[:, side], 3)\n",
        "\n",
        "                    results.append(dict(subject=subject, action=action_class, \n",
        "                                        trial=trial, cam=cam, side=side,\n",
        "                                        lyap=lyap, gt_lyap=gt_lyap,\n",
        "                                        entropy=entropy, gt_entropy=gt_entropy,\n",
        "                                        corr_dim=corr_dim, gt_corr_dim=gt_corr_dim\n",
        "                                        ))\n",
        "    results = pd.DataFrame(results)\n",
        "    results['subject'] = results['subject'].astype(\"category\") # wont get aggregated\n",
        "    results['action'] = results['action'].astype(\"category\")\n",
        "    results['trial'] = results['trial'].astype(\"category\")\n",
        "    results['cam'] = results['cam'].astype(\"category\")\n",
        "    return results"
      ],
      "execution_count": null,
      "outputs": []
    },
    {
      "cell_type": "code",
      "metadata": {
        "id": "ygg3N2whE9IP"
      },
      "source": [
        "evaluate_nl(mp_pos2d, gt_angles, scale_factor=1.2)"
      ],
      "execution_count": null,
      "outputs": []
    }
  ]
}