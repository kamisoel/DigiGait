{
 "cells": [
  {
   "cell_type": "code",
   "execution_count": null,
   "id": "45546274",
   "metadata": {},
   "outputs": [],
   "source": [
    "!pip install requirements.txt"
   ]
  },
  {
   "cell_type": "code",
   "execution_count": 2,
   "id": "24f3902b",
   "metadata": {},
   "outputs": [
    {
     "name": "stdout",
     "output_type": "stream",
     "text": [
      "The autoreload extension is already loaded. To reload it, use:\n",
      "  %reload_ext autoreload\n"
     ]
    },
    {
     "data": {
      "text/html": [
       "\n",
       "        <iframe\n",
       "            width=\"100%\"\n",
       "            height=\"650\"\n",
       "            src=\"http://127.0.0.1:8050/\"\n",
       "            frameborder=\"0\"\n",
       "            allowfullscreen\n",
       "        ></iframe>\n",
       "        "
      ],
      "text/plain": [
       "<IPython.lib.display.IFrame at 0x7fe42a4ead90>"
      ]
     },
     "metadata": {},
     "output_type": "display_data"
    },
    {
     "name": "stdout",
     "output_type": "stream",
     "text": [
      "\u001b[1;31m---------------------------------------------------------------------------\u001b[0m\n",
      "\u001b[1;31mNotFound\u001b[0m                                  Traceback (most recent call last)\n",
      "\u001b[1;32m~/opt/miniconda3/envs/dash/lib/python3.8/site-packages/flask/app.py\u001b[0m in \u001b[0;36mfull_dispatch_request\u001b[1;34m(self=<Flask '__main__'>)\u001b[0m\n",
      "\u001b[0;32m   1948\u001b[0m             \u001b[0mrv\u001b[0m \u001b[1;33m=\u001b[0m \u001b[0mself\u001b[0m\u001b[1;33m.\u001b[0m\u001b[0mpreprocess_request\u001b[0m\u001b[1;33m(\u001b[0m\u001b[1;33m)\u001b[0m\u001b[1;33m\u001b[0m\u001b[1;33m\u001b[0m\u001b[0m\n",
      "\u001b[0;32m   1949\u001b[0m             \u001b[1;32mif\u001b[0m \u001b[0mrv\u001b[0m \u001b[1;32mis\u001b[0m \u001b[1;32mNone\u001b[0m\u001b[1;33m:\u001b[0m\u001b[1;33m\u001b[0m\u001b[1;33m\u001b[0m\u001b[0m\n",
      "\u001b[1;32m-> 1950\u001b[1;33m                 \u001b[0mrv\u001b[0m \u001b[1;33m=\u001b[0m \u001b[0mself\u001b[0m\u001b[1;33m.\u001b[0m\u001b[0mdispatch_request\u001b[0m\u001b[1;33m(\u001b[0m\u001b[1;33m)\u001b[0m\u001b[1;33m\u001b[0m\u001b[1;33m\u001b[0m\u001b[0m\n",
      "\u001b[0m        \u001b[0;36mrv\u001b[0m \u001b[1;34m= None\u001b[0m\u001b[1;34m\n",
      "        \u001b[0m\u001b[0;36mself.dispatch_request\u001b[0m \u001b[1;34m= <bound method Flask.dispatch_request of <Flask '__main__'>>\u001b[0m\n",
      "\u001b[0;32m   1951\u001b[0m         \u001b[1;32mexcept\u001b[0m \u001b[0mException\u001b[0m \u001b[1;32mas\u001b[0m \u001b[0me\u001b[0m\u001b[1;33m:\u001b[0m\u001b[1;33m\u001b[0m\u001b[1;33m\u001b[0m\u001b[0m\n",
      "\u001b[0;32m   1952\u001b[0m             \u001b[0mrv\u001b[0m \u001b[1;33m=\u001b[0m \u001b[0mself\u001b[0m\u001b[1;33m.\u001b[0m\u001b[0mhandle_user_exception\u001b[0m\u001b[1;33m(\u001b[0m\u001b[0me\u001b[0m\u001b[1;33m)\u001b[0m\u001b[1;33m\u001b[0m\u001b[1;33m\u001b[0m\u001b[0m\n",
      "\n",
      "\u001b[1;32m~/opt/miniconda3/envs/dash/lib/python3.8/site-packages/flask/app.py\u001b[0m in \u001b[0;36mdispatch_request\u001b[1;34m(self=<Flask '__main__'>)\u001b[0m\n",
      "\u001b[0;32m   1924\u001b[0m         \u001b[0mreq\u001b[0m \u001b[1;33m=\u001b[0m \u001b[0m_request_ctx_stack\u001b[0m\u001b[1;33m.\u001b[0m\u001b[0mtop\u001b[0m\u001b[1;33m.\u001b[0m\u001b[0mrequest\u001b[0m\u001b[1;33m\u001b[0m\u001b[1;33m\u001b[0m\u001b[0m\n",
      "\u001b[0;32m   1925\u001b[0m         \u001b[1;32mif\u001b[0m \u001b[0mreq\u001b[0m\u001b[1;33m.\u001b[0m\u001b[0mrouting_exception\u001b[0m \u001b[1;32mis\u001b[0m \u001b[1;32mnot\u001b[0m \u001b[1;32mNone\u001b[0m\u001b[1;33m:\u001b[0m\u001b[1;33m\u001b[0m\u001b[1;33m\u001b[0m\u001b[0m\n",
      "\u001b[1;32m-> 1926\u001b[1;33m             \u001b[0mself\u001b[0m\u001b[1;33m.\u001b[0m\u001b[0mraise_routing_exception\u001b[0m\u001b[1;33m(\u001b[0m\u001b[0mreq\u001b[0m\u001b[1;33m)\u001b[0m\u001b[1;33m\u001b[0m\u001b[1;33m\u001b[0m\u001b[0m\n",
      "\u001b[0m        \u001b[0;36mself.raise_routing_exception\u001b[0m \u001b[1;34m= <bound method Flask.raise_routing_exception of <Flask '__main__'>>\u001b[0m\u001b[1;34m\n",
      "        \u001b[0m\u001b[0;36mreq\u001b[0m \u001b[1;34m= <Request 'http://127.0.0.1:8050/' [GET]>\u001b[0m\n",
      "\u001b[0;32m   1927\u001b[0m         \u001b[0mrule\u001b[0m \u001b[1;33m=\u001b[0m \u001b[0mreq\u001b[0m\u001b[1;33m.\u001b[0m\u001b[0murl_rule\u001b[0m\u001b[1;33m\u001b[0m\u001b[1;33m\u001b[0m\u001b[0m\n",
      "\u001b[0;32m   1928\u001b[0m         \u001b[1;31m# if we provide automatic options for this URL and the\u001b[0m\u001b[1;33m\u001b[0m\u001b[1;33m\u001b[0m\u001b[1;33m\u001b[0m\u001b[0m\n",
      "\n",
      "\u001b[1;32m~/opt/miniconda3/envs/dash/lib/python3.8/site-packages/flask/app.py\u001b[0m in \u001b[0;36mraise_routing_exception\u001b[1;34m(\n",
      "    self=<Flask '__main__'>,\n",
      "    request=<Request 'http://127.0.0.1:8050/' [GET]>\n",
      ")\u001b[0m\n",
      "\u001b[0;32m   1906\u001b[0m             \u001b[1;32mor\u001b[0m \u001b[0mrequest\u001b[0m\u001b[1;33m.\u001b[0m\u001b[0mmethod\u001b[0m \u001b[1;32min\u001b[0m \u001b[1;33m(\u001b[0m\u001b[1;34m\"GET\"\u001b[0m\u001b[1;33m,\u001b[0m \u001b[1;34m\"HEAD\"\u001b[0m\u001b[1;33m,\u001b[0m \u001b[1;34m\"OPTIONS\"\u001b[0m\u001b[1;33m)\u001b[0m\u001b[1;33m\u001b[0m\u001b[1;33m\u001b[0m\u001b[0m\n",
      "\u001b[0;32m   1907\u001b[0m         ):\n",
      "\u001b[1;32m-> 1908\u001b[1;33m             \u001b[1;32mraise\u001b[0m \u001b[0mrequest\u001b[0m\u001b[1;33m.\u001b[0m\u001b[0mrouting_exception\u001b[0m\u001b[1;33m\u001b[0m\u001b[1;33m\u001b[0m\u001b[0m\n",
      "\u001b[0m        \u001b[0;36mrequest.routing_exception\u001b[0m \u001b[1;34m= <NotFound '404: Not Found'>\u001b[0m\n",
      "\u001b[0;32m   1909\u001b[0m \u001b[1;33m\u001b[0m\u001b[0m\n",
      "\u001b[0;32m   1910\u001b[0m         \u001b[1;32mfrom\u001b[0m \u001b[1;33m.\u001b[0m\u001b[0mdebughelpers\u001b[0m \u001b[1;32mimport\u001b[0m \u001b[0mFormDataRoutingRedirect\u001b[0m\u001b[1;33m\u001b[0m\u001b[1;33m\u001b[0m\u001b[0m\n",
      "\n",
      "\u001b[1;32m~/opt/miniconda3/envs/dash/lib/python3.8/site-packages/flask/ctx.py\u001b[0m in \u001b[0;36mmatch_request\u001b[1;34m(\n",
      "    self=<RequestContext 'http://127.0.0.1:8050/' [GET] of __main__>\n",
      ")\u001b[0m\n",
      "\u001b[0;32m    348\u001b[0m         \"\"\"\n",
      "\u001b[0;32m    349\u001b[0m         \u001b[1;32mtry\u001b[0m\u001b[1;33m:\u001b[0m\u001b[1;33m\u001b[0m\u001b[1;33m\u001b[0m\u001b[0m\n",
      "\u001b[1;32m--> 350\u001b[1;33m             \u001b[0mresult\u001b[0m \u001b[1;33m=\u001b[0m \u001b[0mself\u001b[0m\u001b[1;33m.\u001b[0m\u001b[0murl_adapter\u001b[0m\u001b[1;33m.\u001b[0m\u001b[0mmatch\u001b[0m\u001b[1;33m(\u001b[0m\u001b[0mreturn_rule\u001b[0m\u001b[1;33m=\u001b[0m\u001b[1;32mTrue\u001b[0m\u001b[1;33m)\u001b[0m\u001b[1;33m\u001b[0m\u001b[1;33m\u001b[0m\u001b[0m\n",
      "\u001b[0m        \u001b[0;36mresult\u001b[0m \u001b[1;34m= \u001b[1;36mundefined\u001b[0m\u001b[0m\u001b[1;34m\n",
      "        \u001b[0m\u001b[0;36mself.url_adapter.match\u001b[0m \u001b[1;34m= <bound method MapAdapter.match of <werkzeug.routing.MapAdapter object at 0x7fe427472310>>\u001b[0m\u001b[1;34m\n",
      "        \u001b[0m\u001b[1;36mglobal\u001b[0m \u001b[0;36mreturn_rule\u001b[0m \u001b[1;34m= \u001b[1;36mundefined\u001b[0m\u001b[0m\n",
      "\u001b[0;32m    351\u001b[0m             \u001b[0mself\u001b[0m\u001b[1;33m.\u001b[0m\u001b[0mrequest\u001b[0m\u001b[1;33m.\u001b[0m\u001b[0murl_rule\u001b[0m\u001b[1;33m,\u001b[0m \u001b[0mself\u001b[0m\u001b[1;33m.\u001b[0m\u001b[0mrequest\u001b[0m\u001b[1;33m.\u001b[0m\u001b[0mview_args\u001b[0m \u001b[1;33m=\u001b[0m \u001b[0mresult\u001b[0m\u001b[1;33m\u001b[0m\u001b[1;33m\u001b[0m\u001b[0m\n",
      "\u001b[0;32m    352\u001b[0m         \u001b[1;32mexcept\u001b[0m \u001b[0mHTTPException\u001b[0m \u001b[1;32mas\u001b[0m \u001b[0me\u001b[0m\u001b[1;33m:\u001b[0m\u001b[1;33m\u001b[0m\u001b[1;33m\u001b[0m\u001b[0m\n",
      "\n",
      "\u001b[1;32m~/opt/miniconda3/envs/dash/lib/python3.8/site-packages/werkzeug/routing.py\u001b[0m in \u001b[0;36mmatch\u001b[1;34m(\n",
      "    self=<werkzeug.routing.MapAdapter object>,\n",
      "    path_info='/',\n",
      "    method='GET',\n",
      "    return_rule=True,\n",
      "    query_args='',\n",
      "    websocket=False\n",
      ")\u001b[0m\n",
      "\u001b[0;32m   1943\u001b[0m             \u001b[1;32mraise\u001b[0m \u001b[0mWebsocketMismatch\u001b[0m\u001b[1;33m(\u001b[0m\u001b[1;33m)\u001b[0m\u001b[1;33m\u001b[0m\u001b[1;33m\u001b[0m\u001b[0m\n",
      "\u001b[0;32m   1944\u001b[0m \u001b[1;33m\u001b[0m\u001b[0m\n",
      "\u001b[1;32m-> 1945\u001b[1;33m         \u001b[1;32mraise\u001b[0m \u001b[0mNotFound\u001b[0m\u001b[1;33m(\u001b[0m\u001b[1;33m)\u001b[0m\u001b[1;33m\u001b[0m\u001b[1;33m\u001b[0m\u001b[0m\n",
      "\u001b[0m        \u001b[1;36mglobal\u001b[0m \u001b[0;36mNotFound\u001b[0m \u001b[1;34m= <class 'werkzeug.exceptions.NotFound'>\u001b[0m\n",
      "\u001b[0;32m   1946\u001b[0m \u001b[1;33m\u001b[0m\u001b[0m\n",
      "\u001b[0;32m   1947\u001b[0m     \u001b[1;32mdef\u001b[0m \u001b[0mtest\u001b[0m\u001b[1;33m(\u001b[0m\u001b[0mself\u001b[0m\u001b[1;33m,\u001b[0m \u001b[0mpath_info\u001b[0m\u001b[1;33m=\u001b[0m\u001b[1;32mNone\u001b[0m\u001b[1;33m,\u001b[0m \u001b[0mmethod\u001b[0m\u001b[1;33m=\u001b[0m\u001b[1;32mNone\u001b[0m\u001b[1;33m)\u001b[0m\u001b[1;33m:\u001b[0m\u001b[1;33m\u001b[0m\u001b[1;33m\u001b[0m\u001b[0m\n",
      "\n",
      "\u001b[1;31mNotFound\u001b[0m: 404 Not Found: The requested URL was not found on the server. If you entered the URL manually please check your spelling and try again.\n",
      "\n"
     ]
    }
   ],
   "source": [
    "%load_ext autoreload\n",
    "%autoreload 2\n",
    "\n",
    "from flask import Flask\n",
    "from flask.helpers import get_root_path\n",
    "\n",
    "from jupyter_dash import JupyterDash\n",
    "\n",
    "import numpy as np\n",
    "\n",
    "from dash_app.layout import layout\n",
    "from dash_app.callbacks import register_callbacks\n",
    "\n",
    "server = Flask(__name__)\n",
    "app = JupyterDash(__name__, server=server,\n",
    "                  url_base_pathname='/',\n",
    "                  assets_folder=get_root_path(__name__) + '/assets/')\n",
    "\n",
    "with server.app_context():\n",
    "    app.title = 'Gait Analyzer'\n",
    "    app.layout = layout\n",
    "    register_callbacks(app)\n",
    "\n",
    "#_protect_dashviews(dashapp1)\n",
    "\n",
    "# Run app and display result inline in the notebook\n",
    "app.run_server(mode='inline', debug=True)"
   ]
  },
  {
   "cell_type": "code",
   "execution_count": null,
   "id": "b7c867d8",
   "metadata": {},
   "outputs": [],
   "source": [
    "from plotly.subplots import make_subplots\n",
    "fig = make_subplots(2, 1, shared_xaxes=True)\n",
    "for i, n in enumerate(['r_knee_flex', 'l_knee_flex']):\n",
    "    fig.add_trace(go.Scatter(y=angles[n], name=n), i+1, 1)\n",
    "fig.update_yaxes(matches='y')\n",
    "fig.update_layout(dragmode= 'pan', xaxis=dict(range=[0,300]), yaxis=dict(range=[120,190], fixedrange=True))\n",
    "fig.add_shape(\n",
    "    dict(type=\"line\", x0=20, x1=20, y0=120, y1=200, line_color=\"green\"), row=\"all\", col=1\n",
    ")\n",
    "fig.show()\n",
    "#fig.update_shapes(dict(x0=30, x1=30))"
   ]
  },
  {
   "cell_type": "code",
   "execution_count": null,
   "id": "7c5c9c9f",
   "metadata": {},
   "outputs": [],
   "source": []
  }
 ],
 "metadata": {
  "kernelspec": {
   "display_name": "Python 3",
   "language": "python",
   "name": "python3"
  },
  "language_info": {
   "codemirror_mode": {
    "name": "ipython",
    "version": 3
   },
   "file_extension": ".py",
   "mimetype": "text/x-python",
   "name": "python",
   "nbconvert_exporter": "python",
   "pygments_lexer": "ipython3",
   "version": "3.8.8"
  }
 },
 "nbformat": 4,
 "nbformat_minor": 5
}
